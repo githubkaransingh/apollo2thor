{
 "cells": [
  {
   "cell_type": "markdown",
   "metadata": {},
   "source": [
    "Convert <font color='red'>/mnt/prepared/Sourcing/Supplier</font> --> <font color='green'>/mnt/thorcf2/clean/sour/nasa/supplierv2</font>"
   ]
  },
  {
   "cell_type": "code",
   "execution_count": 1,
   "metadata": {},
   "outputs": [],
   "source": [
    "from pyspark.sql.session import SparkSession\n",
    "import pyspark.sql.functions as F\n",
    "from pyspark.sql.functions import *\n",
    "from pyspark.sql import SparkSession\n",
    "from pyspark.sql.functions import col\n",
    "from pyspark.sql.functions import year, month\n",
    "from pyspark.sql.functions import to_timestamp,date_format\n",
    "\n",
    "spark = SparkSession.builder.getOrCreate()"
   ]
  },
  {
   "cell_type": "code",
   "execution_count": 2,
   "metadata": {},
   "outputs": [
    {
     "name": "stdout",
     "output_type": "stream",
     "text": [
      "+-----------+--------------------+\n",
      "|SuppliersId|       SuppliersName|\n",
      "+-----------+--------------------+\n",
      "|         75|bat american belg...|\n",
      "|         83|imperial tobacco ...|\n",
      "|         91|f. lli de cecco d...|\n",
      "|        109|     itunes s.a.r.l.|\n",
      "|        117|      synergy health|\n",
      "+-----------+--------------------+\n",
      "only showing top 5 rows\n",
      "\n"
     ]
    }
   ],
   "source": [
    "df1 = spark.read.load('/mnt/prepared/Sourcing/Supplier')\n",
    "df1 = (df1\n",
    "       .filter(F.col('__DeletedFlag')==False)\n",
    "       .select('SuppliersId', 'SuppliersName')\n",
    ")\n",
    "df1.show(5)"
   ]
  },
  {
   "cell_type": "code",
   "execution_count": 3,
   "metadata": {},
   "outputs": [
    {
     "name": "stdout",
     "output_type": "stream",
     "text": [
      "+-------------------+---------+------------+--------------------+--------------------+\n",
      "|      eventDateTime|  eventId|obsoleteFlag|           Suppliers|              __meta|\n",
      "+-------------------+---------+------------+--------------------+--------------------+\n",
      "|2023-07-13 12:50:30|184733951|       false|{false, 76, null,...|{2023-08-11 18:14...|\n",
      "|2023-07-10 20:04:58|184457703|       false|{false, 30, null,...|{2023-08-11 18:14...|\n",
      "|2023-07-13 12:48:47|184733830|       false|{false, 86, null,...|{2023-08-11 18:14...|\n",
      "|2023-07-28 18:22:28|186051349|       false|{false, 16, null,...|{2023-08-11 18:14...|\n",
      "|2023-07-31 14:27:58|186118369|       false|{false, 35, null,...|{2023-08-11 18:14...|\n",
      "+-------------------+---------+------------+--------------------+--------------------+\n",
      "only showing top 5 rows\n",
      "\n",
      "root\n",
      " |-- eventDateTime: timestamp (nullable = true)\n",
      " |-- eventId: long (nullable = true)\n",
      " |-- obsoleteFlag: boolean (nullable = true)\n",
      " |-- Suppliers: struct (nullable = true)\n",
      " |    |-- aholdOrgUnitFlag: boolean (nullable = true)\n",
      " |    |-- categoryTeamNumber: integer (nullable = true)\n",
      " |    |-- contactPerson: string (nullable = true)\n",
      " |    |-- defaultCostCenterCode: string (nullable = true)\n",
      " |    |-- externalRelationNumber: integer (nullable = true)\n",
      " |    |-- glnStartDate: date (nullable = true)\n",
      " |    |-- globalLocationNumber: long (nullable = true)\n",
      " |    |-- id: integer (nullable = true)\n",
      " |    |-- invoiceNettingFlag: boolean (nullable = true)\n",
      " |    |-- invoicingDelayDays: integer (nullable = true)\n",
      " |    |-- invoicingDelayType: string (nullable = true)\n",
      " |    |-- invoicingFrequency: string (nullable = true)\n",
      " |    |-- matchingCode: string (nullable = true)\n",
      " |    |-- name: string (nullable = true)\n",
      " |    |-- selectableUntilDate: string (nullable = true)\n",
      " |    |-- supplierImageFlag: boolean (nullable = true)\n",
      " |    |-- supplierImportCondition: string (nullable = true)\n",
      " |    |-- taxClearanceDocumentType: string (nullable = true)\n",
      " |    |-- telephoneNumber: string (nullable = true)\n",
      " |    |-- tradeItemGtinMandatoryFlag: boolean (nullable = true)\n",
      " |    |-- wwreStatus: string (nullable = true)\n",
      " |    |-- address: struct (nullable = true)\n",
      " |    |    |-- city: string (nullable = true)\n",
      " |    |    |-- houseNumber: integer (nullable = true)\n",
      " |    |    |-- houseNumberSuffix: string (nullable = true)\n",
      " |    |    |-- locationDescription: string (nullable = true)\n",
      " |    |    |-- postalCode: string (nullable = true)\n",
      " |    |    |-- street: string (nullable = true)\n",
      " |-- __meta: struct (nullable = true)\n",
      " |    |-- ModifiedTimestamp: timestamp (nullable = true)\n",
      "\n"
     ]
    }
   ],
   "source": [
    "df2 = spark.read.load('dbfs:/mnt/thorcf2/clean/sour/nasa/supplierv2')\n",
    "df2.show(5)\n",
    "df2.printSchema()"
   ]
  },
  {
   "cell_type": "code",
   "execution_count": 4,
   "metadata": {},
   "outputs": [
    {
     "name": "stdout",
     "output_type": "stream",
     "text": [
      "+-----------+-------------+\n",
      "|SuppliersId|SuppliersName|\n",
      "+-----------+-------------+\n",
      "|      60202|         null|\n",
      "|      61705|         null|\n",
      "|      63800|         null|\n",
      "|     239103|         null|\n",
      "|     240317|         null|\n",
      "|     240523|         null|\n",
      "|     241026|         null|\n",
      "|     281998|         null|\n",
      "|     483180|         null|\n",
      "|     546200|         null|\n",
      "|     546366|         null|\n",
      "|     629857|         null|\n",
      "|     872622|         null|\n",
      "|     961557|         null|\n",
      "|     962340|         null|\n",
      "|     964569|         null|\n",
      "|     988568|         null|\n",
      "|     989467|         null|\n",
      "|     990903|         null|\n",
      "|     991596|         null|\n",
      "+-----------+-------------+\n",
      "only showing top 20 rows\n",
      "\n"
     ]
    }
   ],
   "source": [
    "df2 = (df2\n",
    "    .select('Suppliers.*')\n",
    "    .select([\n",
    "        col('id').alias('SuppliersId'),\n",
    "        col('name').alias('SuppliersName')\n",
    "    ])\n",
    ")\n",
    "df2.show()"
   ]
  },
  {
   "cell_type": "code",
   "execution_count": 6,
   "metadata": {},
   "outputs": [
    {
     "name": "stdout",
     "output_type": "stream",
     "text": [
      "+-------------+\n",
      "|SuppliersName|\n",
      "+-------------+\n",
      "|         null|\n",
      "+-------------+\n",
      "\n"
     ]
    }
   ],
   "source": [
    "df2.select('SuppliersName').distinct().show()\n"
   ]
  }
 ],
 "metadata": {
  "kernelspec": {
   "display_name": "databricks",
   "language": "python",
   "name": "python3"
  },
  "language_info": {
   "codemirror_mode": {
    "name": "ipython",
    "version": 3
   },
   "file_extension": ".py",
   "mimetype": "text/x-python",
   "name": "python",
   "nbconvert_exporter": "python",
   "pygments_lexer": "ipython3",
   "version": "3.9.13"
  },
  "orig_nbformat": 4
 },
 "nbformat": 4,
 "nbformat_minor": 2
}
