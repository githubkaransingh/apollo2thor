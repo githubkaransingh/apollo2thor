{
 "cells": [
  {
   "cell_type": "markdown",
   "metadata": {},
   "source": [
    "Convert '/mnt/prepared/SupplyChain/StoreOrder/StoreOrderLine' --> '/mnt/thorcf2/clean/supp/dedi/storeorder'"
   ]
  },
  {
   "cell_type": "code",
   "execution_count": 49,
   "metadata": {},
   "outputs": [],
   "source": [
    "from pyspark.sql.session import SparkSession\n",
    "import pyspark.sql.functions as F\n",
    "from pyspark.sql.functions import *\n",
    "from pyspark.sql import SparkSession\n",
    "from pyspark.sql.functions import col\n",
    "from pyspark.sql.functions import year, month\n",
    "from pyspark.sql.functions import to_timestamp,date_format\n",
    "\n",
    "spark = SparkSession.builder.getOrCreate()"
   ]
  },
  {
   "cell_type": "code",
   "execution_count": 50,
   "metadata": {},
   "outputs": [
    {
     "name": "stdout",
     "output_type": "stream",
     "text": [
      "root\n",
      " |-- InsertDate: timestamp (nullable = true)\n",
      " |-- StoreNo: integer (nullable = true)\n",
      " |-- WarehouseNo: integer (nullable = true)\n",
      " |-- DeliveryStreamNo: integer (nullable = true)\n",
      " |-- DeliveryDateTime: timestamp (nullable = true)\n",
      " |-- StoreOrderNo: integer (nullable = true)\n",
      " |-- Soino: integer (nullable = true)\n",
      " |-- Quantity: integer (nullable = true)\n",
      " |-- OrderLineId: integer (nullable = true)\n",
      " |-- PromotionInd: string (nullable = true)\n",
      " |-- InitialPromotionInd: string (nullable = true)\n",
      " |-- SupplierCompanyGln: string (nullable = true)\n",
      " |-- SupplierNo: integer (nullable = true)\n",
      " |-- AddUnorderedInd: string (nullable = true)\n",
      " |-- EmergencyOrderInd: string (nullable = true)\n",
      " |-- date: date (nullable = true)\n",
      " |-- year: string (nullable = true)\n",
      " |-- month: string (nullable = true)\n",
      " |-- day: string (nullable = true)\n",
      "\n"
     ]
    }
   ],
   "source": [
    "df1 = spark.read.load('/mnt/prepared/SupplyChain/StoreOrder/StoreOrderLine')\n",
    "df1.printSchema()"
   ]
  },
  {
   "cell_type": "code",
   "execution_count": 51,
   "metadata": {},
   "outputs": [
    {
     "name": "stdout",
     "output_type": "stream",
     "text": [
      "root\n",
      " |-- Header: struct (nullable = false)\n",
      " |    |-- Event: struct (nullable = false)\n",
      " |    |    |-- Action: string (nullable = true)\n",
      " |    |    |-- DateTime: timestamp (nullable = true)\n",
      " |-- Payload: struct (nullable = false)\n",
      " |    |-- StoreOrder: struct (nullable = false)\n",
      " |    |    |-- OpCo: struct (nullable = false)\n",
      " |    |    |    |-- CountryCode: string (nullable = true)\n",
      " |    |    |    |-- GLN: long (nullable = true)\n",
      " |    |    |-- StoreNo: integer (nullable = true)\n",
      " |    |    |-- WarehouseNo: integer (nullable = true)\n",
      " |    |    |-- WarehouseGln: long (nullable = true)\n",
      " |    |    |-- StoreOrderNo: integer (nullable = true)\n",
      " |    |    |-- MessageCreationDatetime: timestamp (nullable = true)\n",
      " |    |    |-- DeliveryStreamNo: integer (nullable = true)\n",
      " |    |    |-- DeliveryDateTime: timestamp (nullable = true)\n",
      " |    |    |-- DelivererNo: integer (nullable = true)\n",
      " |    |    |-- SupplyMethod: string (nullable = true)\n",
      " |    |    |-- StoreOrderLine: array (nullable = true)\n",
      " |    |    |    |-- element: struct (containsNull = false)\n",
      " |    |    |    |    |-- SoiNo: long (nullable = true)\n",
      " |    |    |    |    |-- Quantity: integer (nullable = true)\n",
      " |    |    |    |    |-- OrderLineId: integer (nullable = true)\n",
      " |    |    |    |    |-- PromotionInd: string (nullable = true)\n",
      " |    |    |    |    |-- InitialPromotionInd: string (nullable = true)\n",
      " |    |    |    |    |-- SupplierCompanyGln: long (nullable = true)\n",
      " |    |    |    |    |-- SupplierNo: integer (nullable = true)\n",
      " |    |    |    |    |-- AddUnorderedInd: string (nullable = true)\n",
      " |    |    |    |    |-- EmergencyOrderInd: string (nullable = true)\n",
      " |-- DeliveryDatePartitionKey: integer (nullable = true)\n",
      " |-- __meta: struct (nullable = true)\n",
      " |    |-- ModifiedTimestamp: timestamp (nullable = true)\n",
      "\n"
     ]
    }
   ],
   "source": [
    "df2 = spark.read.load('dbfs:/mnt/thorcf2/clean/supp/dedi/storeorder')\n",
    "df2.printSchema()"
   ]
  },
  {
   "cell_type": "code",
   "execution_count": 52,
   "metadata": {},
   "outputs": [
    {
     "name": "stdout",
     "output_type": "stream",
     "text": [
      "root\n",
      " |-- Action: string (nullable = true)\n",
      " |-- DateTime: timestamp (nullable = true)\n",
      " |-- CountryCode: string (nullable = true)\n",
      " |-- GLN: long (nullable = true)\n",
      " |-- StoreNo: integer (nullable = true)\n",
      " |-- WarehouseNo: integer (nullable = true)\n",
      " |-- StoreOrderNo: integer (nullable = true)\n",
      " |-- MessageCreationDatetime: timestamp (nullable = true)\n",
      " |-- DeliveryStreamNo: integer (nullable = true)\n",
      " |-- DeliveryDateTime: timestamp (nullable = true)\n",
      " |-- DelivererNo: integer (nullable = true)\n",
      " |-- SupplyMethod: string (nullable = true)\n",
      " |-- StoreOrderLine: array (nullable = true)\n",
      " |    |-- element: struct (containsNull = false)\n",
      " |    |    |-- SoiNo: long (nullable = true)\n",
      " |    |    |-- Quantity: integer (nullable = true)\n",
      " |    |    |-- OrderLineId: integer (nullable = true)\n",
      " |    |    |-- PromotionInd: string (nullable = true)\n",
      " |    |    |-- InitialPromotionInd: string (nullable = true)\n",
      " |    |    |-- SupplierCompanyGln: long (nullable = true)\n",
      " |    |    |-- SupplierNo: integer (nullable = true)\n",
      " |    |    |-- AddUnorderedInd: string (nullable = true)\n",
      " |    |    |-- EmergencyOrderInd: string (nullable = true)\n",
      " |-- DeliveryDatePartitionKey: integer (nullable = true)\n",
      " |-- ModifiedTimestamp: timestamp (nullable = true)\n",
      "\n"
     ]
    }
   ],
   "source": [
    "df2 = df2.select(\"Header.*\", \"Payload.*\", \"DeliveryDatePartitionKey\", \"__meta.*\")\n",
    "df2 = df2.select(\"Event.*\", \"StoreOrder.*\", \"DeliveryDatePartitionKey\", \"ModifiedTimestamp\")\n",
    "df2 = df2.select(\"Action\", \"DateTime\", \"Opco.*\", \"StoreNo\", \"WarehouseNo\",\"StoreOrderNo\",\"MessageCreationDatetime\",\"DeliveryStreamNo\",\"DeliveryDateTime\",\"DelivererNo\",\"SupplyMethod\",\"StoreOrderLine\",\"DeliveryDatePartitionKey\",\"ModifiedTimestamp\")\n",
    "df2.printSchema()"
   ]
  },
  {
   "cell_type": "code",
   "execution_count": 53,
   "metadata": {},
   "outputs": [
    {
     "name": "stdout",
     "output_type": "stream",
     "text": [
      "root\n",
      " |-- Action: string (nullable = true)\n",
      " |-- DateTime: timestamp (nullable = true)\n",
      " |-- CountryCode: string (nullable = true)\n",
      " |-- GLN: long (nullable = true)\n",
      " |-- StoreNo: integer (nullable = true)\n",
      " |-- WarehouseNo: integer (nullable = true)\n",
      " |-- StoreOrderNo: integer (nullable = true)\n",
      " |-- MessageCreationDatetime: timestamp (nullable = true)\n",
      " |-- DeliveryStreamNo: integer (nullable = true)\n",
      " |-- DeliveryDateTime: timestamp (nullable = true)\n",
      " |-- DelivererNo: integer (nullable = true)\n",
      " |-- SupplyMethod: string (nullable = true)\n",
      " |-- SoiNo: long (nullable = true)\n",
      " |-- Quantity: integer (nullable = true)\n",
      " |-- OrderLineId: integer (nullable = true)\n",
      " |-- PromotionInd: string (nullable = true)\n",
      " |-- InitialPromotionInd: string (nullable = true)\n",
      " |-- SupplierCompanyGln: long (nullable = true)\n",
      " |-- SupplierNo: integer (nullable = true)\n",
      " |-- AddUnorderedInd: string (nullable = true)\n",
      " |-- EmergencyOrderInd: string (nullable = true)\n",
      " |-- DeliveryDatePartitionKey: integer (nullable = true)\n",
      " |-- ModifiedTimestamp: timestamp (nullable = true)\n",
      "\n"
     ]
    }
   ],
   "source": [
    "df2 = df2.select(\"Action\",\"DateTime\",\"CountryCode\",\"GLN\",\"StoreNo\",\"WarehouseNo\",\"StoreOrderNo\",\"MessageCreationDatetime\",\n",
    "                 \"DeliveryStreamNo\",\"DeliveryDateTime\",\"DelivererNo\",\"SupplyMethod\",*[F.col('StoreOrderLine')[i].alias(f'StoreOrderLine{i}') for i in range(1)],\n",
    "                 \"DeliveryDatePartitionKey\",\"ModifiedTimestamp\")\n",
    "\n",
    "\n",
    "df2 = df2.select(\"Action\",\"DateTime\",\"CountryCode\",\"GLN\",\"StoreNo\",\"WarehouseNo\",\"StoreOrderNo\",\"MessageCreationDatetime\",\n",
    "                 \"DeliveryStreamNo\",\"DeliveryDateTime\",\"DelivererNo\",\"SupplyMethod\",\"StoreOrderLine0.*\",\"DeliveryDatePartitionKey\",\"ModifiedTimestamp\")\n",
    "df2.printSchema()"
   ]
  },
  {
   "cell_type": "markdown",
   "metadata": {},
   "source": [
    "DF1 : DF2\n",
    "- InsertDate : DateTime\n",
    "- StoreNo : StoreNo\n",
    "- WarehouseNo : WarehouseNo\n",
    "- DeliveryStreamNo : DeliveryStreamNo\n",
    "- DeliveryDateTime : DeliveryDateTime\n",
    "- StoreOrderNo : StoreOrderNo\n",
    "- Soino : SoiNo -> ALIAS?\n",
    "- Quantity : Quantity\n",
    "- OrderLineId : OrderLineId\n",
    "- PromotionInd : PromotionInd\n",
    "- InitialPromotionInd : InitialPromotionInd\n",
    "- SupplierCompanyGln : SupplierCompanyGln\n",
    "- SupplierNo : SupplierNo\n",
    "- AddUnorderedInd : AddUnorderedInd\n",
    "- EmergencyOrderInd : EmergencyOrderInd\n",
    "- date : <font color='red'>AANMAKEN</font>\n",
    "- year : <font color='red'>AANMAKEN</font>\n",
    "- month : <font color='red'>AANMAKEN</font>\n",
    "- day : <font color='red'>AANMAKEN</font>"
   ]
  },
  {
   "cell_type": "code",
   "execution_count": 54,
   "metadata": {},
   "outputs": [],
   "source": [
    "# Voor date kolom: DeliveryDateTime gebruikt, is dat goed? \n",
    "df2 = df2.withColumn(\"date\", to_date(col(\"DeliveryDateTime\")))\n",
    "df2 = df2.withColumn('year', year(df2.date))\n",
    "df2 = df2.withColumn('month', month(df2.date))\n",
    "df2 = df2.withColumn(\"date\",to_timestamp(col(\"date\"))).withColumn(\"day\", date_format(col(\"date\"), \"d\"))"
   ]
  },
  {
   "cell_type": "code",
   "execution_count": 55,
   "metadata": {},
   "outputs": [
    {
     "name": "stdout",
     "output_type": "stream",
     "text": [
      "root\n",
      " |-- Action: string (nullable = true)\n",
      " |-- DateTime: timestamp (nullable = true)\n",
      " |-- CountryCode: string (nullable = true)\n",
      " |-- GLN: long (nullable = true)\n",
      " |-- StoreNo: integer (nullable = true)\n",
      " |-- WarehouseNo: integer (nullable = true)\n",
      " |-- StoreOrderNo: integer (nullable = true)\n",
      " |-- MessageCreationDatetime: timestamp (nullable = true)\n",
      " |-- DeliveryStreamNo: integer (nullable = true)\n",
      " |-- DeliveryDateTime: timestamp (nullable = true)\n",
      " |-- DelivererNo: integer (nullable = true)\n",
      " |-- SupplyMethod: string (nullable = true)\n",
      " |-- SoiNo: long (nullable = true)\n",
      " |-- Quantity: integer (nullable = true)\n",
      " |-- OrderLineId: integer (nullable = true)\n",
      " |-- PromotionInd: string (nullable = true)\n",
      " |-- InitialPromotionInd: string (nullable = true)\n",
      " |-- SupplierCompanyGln: long (nullable = true)\n",
      " |-- SupplierNo: integer (nullable = true)\n",
      " |-- AddUnorderedInd: string (nullable = true)\n",
      " |-- EmergencyOrderInd: string (nullable = true)\n",
      " |-- DeliveryDatePartitionKey: integer (nullable = true)\n",
      " |-- ModifiedTimestamp: timestamp (nullable = true)\n",
      " |-- date: timestamp (nullable = true)\n",
      " |-- year: integer (nullable = true)\n",
      " |-- month: integer (nullable = true)\n",
      " |-- day: string (nullable = true)\n",
      "\n"
     ]
    }
   ],
   "source": [
    "df2.printSchema()"
   ]
  },
  {
   "cell_type": "code",
   "execution_count": 8,
   "metadata": {},
   "outputs": [
    {
     "name": "stdout",
     "output_type": "stream",
     "text": [
      "+------+-------------------+-----------+-------------+-------+-----------+------------+-----------------------+----------------+-------------------+-----------+------------+------+--------+-----------+------------+-------------------+------------------+----------+---------------+-----------------+------------------------+--------------------+-------------------+----+-----+---+\n",
      "|Action|           DateTime|CountryCode|          GLN|StoreNo|WarehouseNo|StoreOrderNo|MessageCreationDatetime|DeliveryStreamNo|   DeliveryDateTime|DelivererNo|SupplyMethod| SoiNo|Quantity|OrderLineId|PromotionInd|InitialPromotionInd|SupplierCompanyGln|SupplierNo|AddUnorderedInd|EmergencyOrderInd|DeliveryDatePartitionKey|   ModifiedTimestamp|               date|year|month|day|\n",
      "+------+-------------------+-----------+-------------+-------+-----------+------------+-----------------------+----------------+-------------------+-----------+------------+------+--------+-----------+------------+-------------------+------------------+----------+---------------+-----------------+------------------------+--------------------+-------------------+----+-----+---+\n",
      "|     I|2022-12-23 00:29:14|         NL|8710400000006|   1003|         75|     7800959|    2022-12-23 00:29:14|               2|2022-12-23 18:00:00|         47|        null|  1225|       1|          1|           N|                  N|     8712423006676|    901504|              N|                N|                20221223|2023-05-09 13:31:...|2022-12-23 00:00:00|2022|   12| 23|\n",
      "|     I|2022-12-22 19:29:14|         NL|8710400000006|   1011|          1|     7811758|    2022-12-22 19:29:14|               2|2022-12-23 10:00:00|          2|        null| 38457|       1|          1|           N|                  N|     8710912888888|    991653|              N|                N|                20221223|2023-05-09 13:31:...|2022-12-23 00:00:00|2022|   12| 23|\n",
      "|     I|2022-12-23 00:29:15|         NL|8710400000006|   1015|          7|     7800986|    2022-12-23 00:29:15|               2|2022-12-23 19:00:00|          7|        null|  1260|       2|          1|           Y|                  N|     8722800000012|     29694|              N|                N|                20221223|2023-05-09 13:31:...|2022-12-23 00:00:00|2022|   12| 23|\n",
      "|     I|2022-12-22 23:59:18|         NL|8710400000006|   1041|        900|    29643011|    2022-12-22 23:59:18|              96|2022-12-23 13:30:00|          7|           C|100119|       2|          1|           N|                  N|     5413011000009|    850404|              N|                N|                20221223|2023-05-09 13:31:...|2022-12-23 00:00:00|2022|   12| 23|\n",
      "|     I|2022-12-23 00:14:23|         NL|8710400000006|   1058|          7|     7812086|    2022-12-23 00:14:23|               2|2022-12-23 22:00:00|          7|        null|  1260|       1|          1|           Y|                  N|     8722800000012|     29694|              N|                N|                20221223|2023-05-09 13:31:...|2022-12-23 00:00:00|2022|   12| 23|\n",
      "|     I|2022-12-23 00:29:25|         NL|8710400000006|   1093|         19|     7801191|    2022-12-23 00:29:25|               1|2022-12-23 19:00:00|         16|        null|  5721|       1|          1|           N|                  N|     8711872000174|    385377|              N|                N|                20221223|2023-05-09 13:31:...|2022-12-23 00:00:00|2022|   12| 23|\n",
      "|     I|2022-12-23 00:14:30|         NL|8710400000006|   1110|        900|    29617322|    2022-12-23 00:14:30|              96|2022-12-23 16:30:00|          2|           C| 63261|       1|          1|           N|                  N|     8719189108002|    996587|              N|                N|                20221223|2023-05-09 13:31:...|2022-12-23 00:00:00|2022|   12| 23|\n",
      "|     I|2022-12-23 00:29:30|         NL|8710400000006|   1126|         19|     7809529|    2022-12-23 00:29:30|               1|2022-12-23 23:00:00|         16|        null| 11650|       1|          1|           N|                  N|     8710482000000|     92304|              N|                N|                20221223|2023-05-09 13:31:...|2022-12-23 00:00:00|2022|   12| 23|\n",
      "|     I|2022-12-22 23:00:08|         NL|8710400000006|   1129|          1|     7801286|    2022-12-22 23:00:08|               2|2022-12-23 14:30:00|          2|        null| 38457|       2|          1|           N|                  N|     8710912888888|    991653|              N|                N|                20221223|2023-05-09 13:31:...|2022-12-23 00:00:00|2022|   12| 23|\n",
      "|     I|2022-12-22 20:14:15|         NL|8710400000006|   1129|         90|     7801285|    2022-12-22 20:14:15|               1|2022-12-23 17:30:00|        576|        null| 11698|       1|          1|           N|                  N|     8711259000001|    607820|              N|                N|                20221223|2023-05-09 13:31:...|2022-12-23 00:00:00|2022|   12| 23|\n",
      "|     I|2022-12-22 23:00:09|         NL|8710400000006|   1129|        900|    29617458|    2022-12-22 23:00:09|              96|2022-12-23 14:30:00|          2|           C| 18439|       2|          1|           N|                  N|     5413011000009|    850404|              N|                N|                20221223|2023-05-09 13:31:...|2022-12-23 00:00:00|2022|   12| 23|\n",
      "|     I|2022-12-22 23:14:42|         NL|8710400000006|   1138|          5|     7801311|    2022-12-22 23:14:42|               9|2022-12-23 21:45:00|         47|           C| 11115|       1|          1|           N|                  N|     4008596000004|    626952|              N|                N|                20221223|2023-05-09 13:31:...|2022-12-23 00:00:00|2022|   12| 23|\n",
      "|     I|2022-12-23 00:14:34|         NL|8710400000006|   1142|         75|     7809685|    2022-12-23 00:14:34|               2|2022-12-23 18:00:00|         47|        null| 38416|       1|          1|           N|                  N|     8710912888888|    991653|              N|                N|                20221223|2023-05-09 13:31:...|2022-12-23 00:00:00|2022|   12| 23|\n",
      "|     I|2022-12-23 00:29:33|         NL|8710400000006|   1143|        900|    29637803|    2022-12-23 00:29:33|              96|2022-12-23 22:30:00|          7|           C|144318|       1|          1|           Y|                  N|     8712224199904|    914846|              N|                N|                20221223|2023-05-09 13:31:...|2022-12-23 00:00:00|2022|   12| 23|\n",
      "|     I|2022-12-23 00:14:36|         NL|8710400000006|   1146|        900|    29617590|    2022-12-23 00:14:36|              96|2022-12-23 23:30:00|          2|           C| 18439|       1|          1|           N|                  N|     5413011000009|    850404|              N|                N|                20221223|2023-05-09 13:31:...|2022-12-23 00:00:00|2022|   12| 23|\n",
      "|     I|2022-12-23 00:29:33|         NL|8710400000006|   1149|         75|     7809756|    2022-12-23 00:29:33|               1|2022-12-23 20:00:00|         47|        null|  4328|       1|          1|           Y|                  N|     8711000000014|    196311|              N|                N|                20221223|2023-05-09 13:31:...|2022-12-23 00:00:00|2022|   12| 23|\n",
      "|     I|2022-12-23 00:29:39|         NL|8710400000006|   1199|          7|     7801475|    2022-12-23 00:29:39|               2|2022-12-23 22:00:00|          7|        null|  1260|       3|          1|           Y|                  N|     8722800000012|     29694|              N|                N|                20221223|2023-05-09 13:31:...|2022-12-23 00:00:00|2022|   12| 23|\n",
      "|     I|2022-12-22 23:00:12|         NL|8710400000006|   1205|        900|    29618059|    2022-12-22 23:00:12|              96|2022-12-23 15:30:00|          7|           C| 63261|       6|          1|           N|                  N|     8719189108002|    996587|              N|                N|                20221223|2023-05-09 13:31:...|2022-12-23 00:00:00|2022|   12| 23|\n",
      "|     I|2022-12-22 18:29:19|         NL|8710400000006|   1208|          7|     7810186|    2022-12-22 18:29:19|               2|2022-12-23 09:30:00|          7|        null|  1260|       1|          1|           Y|                  N|     8722800000012|     29694|              N|                N|                20221223|2023-05-09 13:31:...|2022-12-23 00:00:00|2022|   12| 23|\n",
      "|     I|2022-12-22 18:29:20|         NL|8710400000006|   1210|         90|     7801501|    2022-12-22 18:29:20|               1|2022-12-23 15:45:00|        576|        null| 38522|       1|          1|           N|                  N|     8710912888888|    991653|              N|                N|                20221223|2023-05-09 13:31:...|2022-12-23 00:00:00|2022|   12| 23|\n",
      "+------+-------------------+-----------+-------------+-------+-----------+------------+-----------------------+----------------+-------------------+-----------+------------+------+--------+-----------+------------+-------------------+------------------+----------+---------------+-----------------+------------------------+--------------------+-------------------+----+-----+---+\n",
      "only showing top 20 rows\n",
      "\n"
     ]
    }
   ],
   "source": [
    "df2.show()"
   ]
  },
  {
   "cell_type": "code",
   "execution_count": 17,
   "metadata": {},
   "outputs": [
    {
     "name": "stdout",
     "output_type": "stream",
     "text": [
      "+----+\n",
      "|year|\n",
      "+----+\n",
      "|2023|\n",
      "|2022|\n",
      "+----+\n",
      "\n",
      "+----+\n",
      "|year|\n",
      "+----+\n",
      "|2015|\n",
      "|2016|\n",
      "|2017|\n",
      "|2018|\n",
      "|2019|\n",
      "|2020|\n",
      "|2021|\n",
      "|2022|\n",
      "|2023|\n",
      "+----+\n",
      "\n"
     ]
    }
   ],
   "source": [
    "# Controleren op overeenkomsten\n",
    "df2.select('year').distinct().show()\n",
    "df1.select('year').distinct().sort('year').show()"
   ]
  }
 ],
 "metadata": {
  "kernelspec": {
   "display_name": "databricks",
   "language": "python",
   "name": "python3"
  },
  "language_info": {
   "codemirror_mode": {
    "name": "ipython",
    "version": 3
   },
   "file_extension": ".py",
   "mimetype": "text/x-python",
   "name": "python",
   "nbconvert_exporter": "python",
   "pygments_lexer": "ipython3",
   "version": "3.9.13"
  },
  "orig_nbformat": 4
 },
 "nbformat": 4,
 "nbformat_minor": 2
}
