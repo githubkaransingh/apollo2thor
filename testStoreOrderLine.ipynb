{
 "cells": [
  {
   "cell_type": "code",
   "execution_count": 5,
   "metadata": {},
   "outputs": [],
   "source": [
    "from pyspark.sql.session import SparkSession\n",
    "import pyspark.sql.functions as F\n",
    "from pyspark.sql.functions import *\n",
    "from pyspark.sql import SparkSession\n",
    "from pyspark.sql.functions import col\n",
    "from pyspark.sql.functions import year, month\n",
    "from pyspark.sql.functions import to_timestamp,date_format\n",
    "\n",
    "spark = SparkSession.builder.getOrCreate()"
   ]
  },
  {
   "cell_type": "code",
   "execution_count": 6,
   "metadata": {},
   "outputs": [],
   "source": [
    "df1 = spark.read.load('/mnt/prepared/SupplyChain/StoreOrder/StoreOrderLine')\n",
    "df2 = spark.read.load('dbfs:/mnt/thorcf2/clean/supp/dedi/storeorder')"
   ]
  },
  {
   "cell_type": "code",
   "execution_count": 7,
   "metadata": {},
   "outputs": [
    {
     "name": "stdout",
     "output_type": "stream",
     "text": [
      "root\n",
      " |-- Action: string (nullable = true)\n",
      " |-- DateTime: timestamp (nullable = true)\n",
      " |-- CountryCode: string (nullable = true)\n",
      " |-- GLN: long (nullable = true)\n",
      " |-- StoreNo: integer (nullable = true)\n",
      " |-- WarehouseNo: integer (nullable = true)\n",
      " |-- StoreOrderNo: integer (nullable = true)\n",
      " |-- MessageCreationDatetime: timestamp (nullable = true)\n",
      " |-- DeliveryStreamNo: integer (nullable = true)\n",
      " |-- DeliveryDateTime: timestamp (nullable = true)\n",
      " |-- DelivererNo: integer (nullable = true)\n",
      " |-- SupplyMethod: string (nullable = true)\n",
      " |-- Soino: long (nullable = true)\n",
      " |-- Quantity: integer (nullable = true)\n",
      " |-- OrderLineId: integer (nullable = true)\n",
      " |-- PromotionInd: string (nullable = true)\n",
      " |-- InitialPromotionInd: string (nullable = true)\n",
      " |-- SupplierCompanyGln: long (nullable = true)\n",
      " |-- SupplierNo: integer (nullable = true)\n",
      " |-- AddUnorderedInd: string (nullable = true)\n",
      " |-- EmergencyOrderInd: string (nullable = true)\n",
      " |-- DeliveryDatePartitionKey: integer (nullable = true)\n",
      " |-- ModifiedTimestamp: timestamp (nullable = true)\n",
      " |-- date: timestamp (nullable = true)\n",
      " |-- year: integer (nullable = true)\n",
      " |-- month: integer (nullable = true)\n",
      " |-- day: string (nullable = true)\n",
      "\n"
     ]
    }
   ],
   "source": [
    "df2 = (\n",
    "    df2.select(\"Header.*\", \"Payload.*\", \"DeliveryDatePartitionKey\", \"__meta.*\")\n",
    "    .select(\"Event.*\", \"StoreOrder.*\", \"DeliveryDatePartitionKey\", \"ModifiedTimestamp\")\n",
    "    .select(\"Action\", \"DateTime\", \"Opco.*\", \"StoreNo\", \"WarehouseNo\",\"StoreOrderNo\",\"MessageCreationDatetime\",\"DeliveryStreamNo\",\"DeliveryDateTime\",\n",
    "            \"DelivererNo\",\"SupplyMethod\",\"StoreOrderLine\",\"DeliveryDatePartitionKey\",\"ModifiedTimestamp\")\n",
    "    .select(\"Action\",\"DateTime\",\"CountryCode\",\"GLN\",\"StoreNo\",\"WarehouseNo\",\"StoreOrderNo\",\"MessageCreationDatetime\",\n",
    "            \"DeliveryStreamNo\",\"DeliveryDateTime\",\"DelivererNo\",\"SupplyMethod\",*[F.col('StoreOrderLine')[i].alias(f'StoreOrderLine{i}') for i in range(1)],\n",
    "            \"DeliveryDatePartitionKey\",\"ModifiedTimestamp\")\n",
    "    .select(\"Action\",\"DateTime\",\"CountryCode\",\"GLN\",\"StoreNo\",\"WarehouseNo\",\"StoreOrderNo\",\"MessageCreationDatetime\",\"DeliveryStreamNo\",\"DeliveryDateTime\",\"DelivererNo\",\"SupplyMethod\",\"StoreOrderLine0.*\",\"DeliveryDatePartitionKey\",\"ModifiedTimestamp\")\n",
    ")\n",
    "df2 = df2.withColumnRenamed('SoiNo','Soino')\n",
    "df2 = df2.withColumn(\"date\", to_date(col(\"DeliveryDateTime\")))\n",
    "df2 = df2.withColumn('year', year(df2.date))\n",
    "df2 = df2.withColumn('month', month(df2.date))\n",
    "df2 = df2.withColumn(\"date\",to_timestamp(col(\"date\"))).withColumn(\"day\", date_format(col(\"date\"), \"d\"))\n",
    "\n",
    "df2.printSchema()"
   ]
  }
 ],
 "metadata": {
  "kernelspec": {
   "display_name": "databricks",
   "language": "python",
   "name": "python3"
  },
  "language_info": {
   "codemirror_mode": {
    "name": "ipython",
    "version": 3
   },
   "file_extension": ".py",
   "mimetype": "text/x-python",
   "name": "python",
   "nbconvert_exporter": "python",
   "pygments_lexer": "ipython3",
   "version": "3.9.13"
  },
  "orig_nbformat": 4
 },
 "nbformat": 4,
 "nbformat_minor": 2
}
