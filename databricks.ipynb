{
 "cells": [
  {
   "cell_type": "markdown",
   "metadata": {},
   "source": [
    "# Financials Verkennende Analyse"
   ]
  },
  {
   "cell_type": "code",
   "execution_count": 41,
   "metadata": {},
   "outputs": [],
   "source": [
    "from pyspark.sql.session import SparkSession\n",
    "import pyspark.sql.functions as F\n",
    "from pyspark.sql.functions import *\n",
    "from pyspark.sql.types import IntegerType, BooleanType\n",
    "from pyspark.sql import SparkSession\n",
    "from pyspark.sql.window import Window\n",
    "from pyspark.sql.functions import when, sum, col, concat_ws\n",
    "from pyspark.sql.functions import udf,explode, map_keys\n",
    "\n",
    "spark = SparkSession.builder.getOrCreate()"
   ]
  },
  {
   "cell_type": "code",
   "execution_count": 42,
   "metadata": {},
   "outputs": [
    {
     "name": "stdout",
     "output_type": "stream",
     "text": [
      "+-------------------+-------+-----------+----------------+-------------------+------------+------+--------+-----------+------------+-------------------+------------------+----------+---------------+-----------------+----------+----+-----+---+\n",
      "|         InsertDate|StoreNo|WarehouseNo|DeliveryStreamNo|   DeliveryDateTime|StoreOrderNo| Soino|Quantity|OrderLineId|PromotionInd|InitialPromotionInd|SupplierCompanyGln|SupplierNo|AddUnorderedInd|EmergencyOrderInd|      date|year|month|day|\n",
      "+-------------------+-------+-----------+----------------+-------------------+------------+------+--------+-----------+------------+-------------------+------------------+----------+---------------+-----------------+----------+----+-----+---+\n",
      "|2015-11-26 01:00:00|   4077|        900|              96|2015-11-23 20:00:00|    50363056|295606|       1|       null|           N|                  N|              null|    872606|              N|                N|2015-11-23|2015|   11| 23|\n",
      "|2015-11-26 01:00:00|   1645|        900|              96|2015-11-23 06:30:00|    50363072|355425|       1|       null|           N|                  N|              null|    872606|              N|                N|2015-11-23|2015|   11| 23|\n",
      "|2015-11-26 01:00:00|   8773|        900|              96|2015-11-23 07:00:00|    50363085|338040|       1|       null|           N|                  N|              null|    872606|              N|                N|2015-11-23|2015|   11| 23|\n",
      "|2015-11-26 01:00:00|   1860|        900|              96|2015-11-23 17:30:00|    50363256|355513|       1|       null|           N|                  N|              null|    872606|              N|                N|2015-11-23|2015|   11| 23|\n",
      "|2015-11-26 01:00:00|   1597|        900|              96|2015-11-23 19:00:00|    50363264|311023|       1|       null|           N|                  N|              null|    872606|              N|                N|2015-11-23|2015|   11| 23|\n",
      "+-------------------+-------+-----------+----------------+-------------------+------------+------+--------+-----------+------------+-------------------+------------------+----------+---------------+-----------------+----------+----+-----+---+\n",
      "only showing top 5 rows\n",
      "\n"
     ]
    }
   ],
   "source": [
    "df1 = spark.read.load('/mnt/prepared/SupplyChain/StoreOrder/StoreOrderLine')\n",
    "df1.show(5)"
   ]
  },
  {
   "cell_type": "code",
   "execution_count": 43,
   "metadata": {},
   "outputs": [],
   "source": [
    "df2 = spark.read.load('dbfs:/mnt/thorcf2/clean/supp/dedi/storeorder')\n",
    "df2_flatten = df2.select(\"Header.*\", \"Payload.*\", \"DeliveryDatePartitionKey\", \"__meta.*\")\n",
    "df2_flatten_2 = df2_flatten.select(\"Event.*\", \"StoreOrder.*\", \"DeliveryDatePartitionKey\", \"ModifiedTimestamp\")\n",
    "df2_flatten_3 = df2_flatten_2.select(\"Action\", \"DateTime\", \"Opco.*\", \"StoreNo\", \"WarehouseNo\",\"StoreOrderNo\",\"MessageCreationDatetime\",\"DeliveryStreamNo\",\"DeliveryDateTime\",\"DelivererNo\",\"SupplyMethod\",\"StoreOrderLine\",\"DeliveryDatePartitionKey\",\"ModifiedTimestamp\")"
   ]
  },
  {
   "cell_type": "code",
   "execution_count": 44,
   "metadata": {},
   "outputs": [],
   "source": [
    "# df2_flatten_3.select(\"StoreOrderLine\").show()"
   ]
  },
  {
   "cell_type": "code",
   "execution_count": 45,
   "metadata": {},
   "outputs": [
    {
     "name": "stdout",
     "output_type": "stream",
     "text": [
      "root\n",
      " |-- Action: string (nullable = true)\n",
      " |-- DateTime: timestamp (nullable = true)\n",
      " |-- CountryCode: string (nullable = true)\n",
      " |-- GLN: long (nullable = true)\n",
      " |-- StoreNo: integer (nullable = true)\n",
      " |-- WarehouseNo: integer (nullable = true)\n",
      " |-- StoreOrderNo: integer (nullable = true)\n",
      " |-- MessageCreationDatetime: timestamp (nullable = true)\n",
      " |-- DeliveryStreamNo: integer (nullable = true)\n",
      " |-- DeliveryDateTime: timestamp (nullable = true)\n",
      " |-- DelivererNo: integer (nullable = true)\n",
      " |-- SupplyMethod: string (nullable = true)\n",
      " |-- StoreOrderLine: array (nullable = true)\n",
      " |    |-- element: struct (containsNull = false)\n",
      " |    |    |-- SoiNo: long (nullable = true)\n",
      " |    |    |-- Quantity: integer (nullable = true)\n",
      " |    |    |-- OrderLineId: integer (nullable = true)\n",
      " |    |    |-- PromotionInd: string (nullable = true)\n",
      " |    |    |-- InitialPromotionInd: string (nullable = true)\n",
      " |    |    |-- SupplierCompanyGln: long (nullable = true)\n",
      " |    |    |-- SupplierNo: integer (nullable = true)\n",
      " |    |    |-- AddUnorderedInd: string (nullable = true)\n",
      " |    |    |-- EmergencyOrderInd: string (nullable = true)\n",
      " |-- DeliveryDatePartitionKey: integer (nullable = true)\n",
      " |-- ModifiedTimestamp: timestamp (nullable = true)\n",
      "\n"
     ]
    }
   ],
   "source": [
    "df2_flatten_3.printSchema()"
   ]
  },
  {
   "cell_type": "code",
   "execution_count": 46,
   "metadata": {},
   "outputs": [],
   "source": [
    "print(f\"df2: {df2.count()} {len(df2.columns)}\")\n",
    "# print(f\"df2_flatten: {df2_flatten.count()} {len(df2_flatten.columns)}\")\n",
    "# print(f\"df2_flatten_2: {df2_flatten_2.count()} {len(df2_flatten_2.columns)}\")\n",
    "# print(f\"df2_flatten_3: {df2_flatten_3.count()} {len(df2_flatten_3.columns)}\")\n",
    "# print(f\"df1: {df1.count()} {len(df1.columns)}\")"
   ]
  },
  {
   "cell_type": "code",
   "execution_count": 47,
   "metadata": {},
   "outputs": [
    {
     "name": "stdout",
     "output_type": "stream",
     "text": [
      "root\n",
      " |-- StoreOrderLine: array (nullable = true)\n",
      " |    |-- element: struct (containsNull = false)\n",
      " |    |    |-- SoiNo: long (nullable = true)\n",
      " |    |    |-- Quantity: integer (nullable = true)\n",
      " |    |    |-- OrderLineId: integer (nullable = true)\n",
      " |    |    |-- PromotionInd: string (nullable = true)\n",
      " |    |    |-- InitialPromotionInd: string (nullable = true)\n",
      " |    |    |-- SupplierCompanyGln: long (nullable = true)\n",
      " |    |    |-- SupplierNo: integer (nullable = true)\n",
      " |    |    |-- AddUnorderedInd: string (nullable = true)\n",
      " |    |    |-- EmergencyOrderInd: string (nullable = true)\n",
      "\n",
      "+--------------------+\n",
      "|      StoreOrderLine|\n",
      "+--------------------+\n",
      "|[{3915, 1, 1, N, ...|\n",
      "+--------------------+\n",
      "only showing top 1 row\n",
      "\n"
     ]
    }
   ],
   "source": [
    "df_storeorderline = df2_flatten_3.select(\"StoreOrderLine\")\n",
    "df_storeorderline.printSchema()\n",
    "df_storeorderline.show(1)"
   ]
  },
  {
   "cell_type": "code",
   "execution_count": 60,
   "metadata": {},
   "outputs": [
    {
     "name": "stdout",
     "output_type": "stream",
     "text": [
      "+--------------------+\n",
      "|     StoreOrderLine0|\n",
      "+--------------------+\n",
      "|{3915, 1, 1, N, N...|\n",
      "|{424625, 1, 742, ...|\n",
      "|{195987, 1, 352, ...|\n",
      "|{11314, 1, 1, N, ...|\n",
      "|{12425, 1, 1, N, ...|\n",
      "|{405591, 27, 275,...|\n",
      "|{410104, 1, 364, ...|\n",
      "|{445250, 1, 226, ...|\n",
      "|{1260, 1, 1, N, N...|\n",
      "|{506663, 3, 95, N...|\n",
      "|{23429, 1, 355, N...|\n",
      "|{347612, 1, 49, N...|\n",
      "|{3915, 2, 1, N, N...|\n",
      "|{12256, 1, 1, N, ...|\n",
      "|{62224, 1, 1, N, ...|\n",
      "|{3915, 1, 1, N, N...|\n",
      "|{255485, 1, 980, ...|\n",
      "|{230224, 1, 12, N...|\n",
      "|{353621, 1, 126, ...|\n",
      "|{269143, 1, 22, Y...|\n",
      "+--------------------+\n",
      "only showing top 20 rows\n",
      "\n"
     ]
    }
   ],
   "source": [
    "df = df_storeorderline.select(*[F.col('StoreOrderLine')[i].alias(f'StoreOrderLine{i}') for i in range(1)])\n",
    "df.show()"
   ]
  },
  {
   "cell_type": "code",
   "execution_count": 61,
   "metadata": {},
   "outputs": [
    {
     "name": "stdout",
     "output_type": "stream",
     "text": [
      "root\n",
      " |-- StoreOrderLine0: struct (nullable = true)\n",
      " |    |-- SoiNo: long (nullable = true)\n",
      " |    |-- Quantity: integer (nullable = true)\n",
      " |    |-- OrderLineId: integer (nullable = true)\n",
      " |    |-- PromotionInd: string (nullable = true)\n",
      " |    |-- InitialPromotionInd: string (nullable = true)\n",
      " |    |-- SupplierCompanyGln: long (nullable = true)\n",
      " |    |-- SupplierNo: integer (nullable = true)\n",
      " |    |-- AddUnorderedInd: string (nullable = true)\n",
      " |    |-- EmergencyOrderInd: string (nullable = true)\n",
      "\n"
     ]
    }
   ],
   "source": [
    "df.printSchema()"
   ]
  },
  {
   "cell_type": "code",
   "execution_count": 63,
   "metadata": {},
   "outputs": [
    {
     "name": "stdout",
     "output_type": "stream",
     "text": [
      "+------+--------+-----------+------------+-------------------+------------------+----------+---------------+-----------------+\n",
      "| SoiNo|Quantity|OrderLineId|PromotionInd|InitialPromotionInd|SupplierCompanyGln|SupplierNo|AddUnorderedInd|EmergencyOrderInd|\n",
      "+------+--------+-----------+------------+-------------------+------------------+----------+---------------+-----------------+\n",
      "|  3915|       1|          1|           N|                  N|     8714253049021|    669143|              N|                N|\n",
      "|424625|       1|        742|           N|                  N|     8710508900000|    320838|              N|                N|\n",
      "|195987|       1|        352|           N|                  N|     5410091300074|    326553|              N|                N|\n",
      "| 11314|       1|          1|           N|                  N|     8710398000002|    778225|              N|                N|\n",
      "| 12425|       1|          1|           N|                  N|     8710646000013|     32755|              N|                N|\n",
      "|405591|      27|        275|           N|                  N|     8718300000003|    987982|              N|                N|\n",
      "|410104|       1|        364|           N|                  N|     8712200000002|    884502|              N|                N|\n",
      "|445250|       1|        226|           N|                  N|     8712886515241|     14894|              N|                N|\n",
      "|  1260|       1|          1|           N|                  N|     8722800000012|     29694|              N|                N|\n",
      "|506663|       3|         95|           N|                  N|     8718927300005|    991109|              N|                N|\n",
      "| 23429|       1|        355|           N|                  N|     8715000000012|    598805|              N|                N|\n",
      "|347612|       1|         49|           N|                  N|     5010708000009|    997940|              N|                N|\n",
      "|  3915|       2|          1|           N|                  N|     8714253049021|    669143|              N|                N|\n",
      "| 12256|       1|          1|           N|                  N|     3010836820304|     93740|              N|                N|\n",
      "| 62224|       1|          1|           N|                  N|     8714253049021|    669143|              N|                N|\n",
      "|  3915|       1|          1|           N|                  N|     8714253049021|    669143|              N|                N|\n",
      "|255485|       1|        980|           Y|                  N|     8712423001619|    672253|              N|                N|\n",
      "|230224|       1|         12|           N|                  N|     8714363000004|    650929|              N|                N|\n",
      "|353621|       1|        126|           N|                  N|     4002809000003|    185991|              N|                N|\n",
      "|269143|       1|         22|           Y|                  N|     8710678000005|    529107|              N|                N|\n",
      "+------+--------+-----------+------------+-------------------+------------------+----------+---------------+-----------------+\n",
      "only showing top 20 rows\n",
      "\n"
     ]
    }
   ],
   "source": [
    "df_flatten = df.select('StoreOrderLine0.*')\n",
    "df_flatten.show()"
   ]
  },
  {
   "cell_type": "code",
   "execution_count": null,
   "metadata": {},
   "outputs": [],
   "source": []
  }
 ],
 "metadata": {
  "kernelspec": {
   "display_name": "databricks",
   "language": "python",
   "name": "python3"
  },
  "language_info": {
   "codemirror_mode": {
    "name": "ipython",
    "version": 3
   },
   "file_extension": ".py",
   "mimetype": "text/x-python",
   "name": "python",
   "nbconvert_exporter": "python",
   "pygments_lexer": "ipython3",
   "version": "3.9.13"
  },
  "orig_nbformat": 4
 },
 "nbformat": 4,
 "nbformat_minor": 2
}
