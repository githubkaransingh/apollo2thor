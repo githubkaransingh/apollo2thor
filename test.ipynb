{
 "cells": [
  {
   "cell_type": "code",
   "execution_count": 1,
   "metadata": {},
   "outputs": [],
   "source": [
    "from pyspark.sql.session import SparkSession\n",
    "import pyspark.sql.functions as F\n",
    "from pyspark.sql.functions import *\n",
    "from pyspark.sql import SparkSession\n",
    "from pyspark.sql.functions import col\n",
    "from pyspark.sql.functions import year, month\n",
    "from pyspark.sql.functions import to_timestamp,date_format\n",
    "from pyspark.sql.functions import col, explode\n",
    "from pyspark.sql.types import StructType\n",
    "\n",
    "\n",
    "spark = SparkSession.builder.getOrCreate()"
   ]
  },
  {
   "cell_type": "code",
   "execution_count": 30,
   "metadata": {},
   "outputs": [],
   "source": [
    "df2 = spark.read.load('dbfs:/mnt/thorcf2/clean/supp/dedi/storeorder')"
   ]
  },
  {
   "cell_type": "code",
   "execution_count": 31,
   "metadata": {},
   "outputs": [
    {
     "name": "stdout",
     "output_type": "stream",
     "text": [
      "root\n",
      " |-- Header: struct (nullable = false)\n",
      " |    |-- Event: struct (nullable = false)\n",
      " |    |    |-- Action: string (nullable = true)\n",
      " |    |    |-- DateTime: timestamp (nullable = true)\n",
      " |-- Payload: struct (nullable = false)\n",
      " |    |-- StoreOrder: struct (nullable = false)\n",
      " |    |    |-- OpCo: struct (nullable = false)\n",
      " |    |    |    |-- CountryCode: string (nullable = true)\n",
      " |    |    |    |-- GLN: long (nullable = true)\n",
      " |    |    |-- StoreNo: integer (nullable = true)\n",
      " |    |    |-- WarehouseNo: integer (nullable = true)\n",
      " |    |    |-- WarehouseGln: long (nullable = true)\n",
      " |    |    |-- StoreOrderNo: integer (nullable = true)\n",
      " |    |    |-- MessageCreationDatetime: timestamp (nullable = true)\n",
      " |    |    |-- DeliveryStreamNo: integer (nullable = true)\n",
      " |    |    |-- DeliveryDateTime: timestamp (nullable = true)\n",
      " |    |    |-- DelivererNo: integer (nullable = true)\n",
      " |    |    |-- SupplyMethod: string (nullable = true)\n",
      " |    |    |-- StoreOrderLine: array (nullable = true)\n",
      " |    |    |    |-- element: struct (containsNull = false)\n",
      " |    |    |    |    |-- SoiNo: long (nullable = true)\n",
      " |    |    |    |    |-- Quantity: integer (nullable = true)\n",
      " |    |    |    |    |-- OrderLineId: integer (nullable = true)\n",
      " |    |    |    |    |-- PromotionInd: string (nullable = true)\n",
      " |    |    |    |    |-- InitialPromotionInd: string (nullable = true)\n",
      " |    |    |    |    |-- SupplierCompanyGln: long (nullable = true)\n",
      " |    |    |    |    |-- SupplierNo: integer (nullable = true)\n",
      " |    |    |    |    |-- AddUnorderedInd: string (nullable = true)\n",
      " |    |    |    |    |-- EmergencyOrderInd: string (nullable = true)\n",
      " |-- DeliveryDatePartitionKey: integer (nullable = true)\n",
      " |-- __meta: struct (nullable = true)\n",
      " |    |-- ModifiedTimestamp: timestamp (nullable = true)\n",
      "\n"
     ]
    }
   ],
   "source": [
    "pr"
   ]
  },
  {
   "cell_type": "code",
   "execution_count": 28,
   "metadata": {},
   "outputs": [
    {
     "name": "stdout",
     "output_type": "stream",
     "text": [
      "root\n",
      " |-- Header: struct (nullable = false)\n",
      " |    |-- Event: struct (nullable = false)\n",
      " |    |    |-- Action: string (nullable = true)\n",
      " |    |    |-- DateTime: timestamp (nullable = true)\n",
      " |-- Payload: struct (nullable = false)\n",
      " |    |-- StoreOrder: struct (nullable = false)\n",
      " |    |    |-- OpCo: struct (nullable = false)\n",
      " |    |    |    |-- CountryCode: string (nullable = true)\n",
      " |    |    |    |-- GLN: long (nullable = true)\n",
      " |    |    |-- StoreNo: integer (nullable = true)\n",
      " |    |    |-- WarehouseNo: integer (nullable = true)\n",
      " |    |    |-- WarehouseGln: long (nullable = true)\n",
      " |    |    |-- StoreOrderNo: integer (nullable = true)\n",
      " |    |    |-- MessageCreationDatetime: timestamp (nullable = true)\n",
      " |    |    |-- DeliveryStreamNo: integer (nullable = true)\n",
      " |    |    |-- DeliveryDateTime: timestamp (nullable = true)\n",
      " |    |    |-- DelivererNo: integer (nullable = true)\n",
      " |    |    |-- SupplyMethod: string (nullable = true)\n",
      " |    |    |-- StoreOrderLine: array (nullable = true)\n",
      " |    |    |    |-- element: struct (containsNull = false)\n",
      " |    |    |    |    |-- SoiNo: long (nullable = true)\n",
      " |    |    |    |    |-- Quantity: integer (nullable = true)\n",
      " |    |    |    |    |-- OrderLineId: integer (nullable = true)\n",
      " |    |    |    |    |-- PromotionInd: string (nullable = true)\n",
      " |    |    |    |    |-- InitialPromotionInd: string (nullable = true)\n",
      " |    |    |    |    |-- SupplierCompanyGln: long (nullable = true)\n",
      " |    |    |    |    |-- SupplierNo: integer (nullable = true)\n",
      " |    |    |    |    |-- AddUnorderedInd: string (nullable = true)\n",
      " |    |    |    |    |-- EmergencyOrderInd: string (nullable = true)\n",
      " |-- DeliveryDatePartitionKey: integer (nullable = true)\n",
      " |-- __meta: struct (nullable = true)\n",
      " |    |-- ModifiedTimestamp: timestamp (nullable = true)\n",
      "\n"
     ]
    }
   ],
   "source": [
    "for column_name in df2.columns:\n",
    "    # Check if the column contains dictionaries\n",
    "    if df2.schema[column_name].dataType == :\n",
    "        # Unpack the dictionary using the getItem function\n",
    "        df2 = df2.withColumn(column_name, col(column_name).getItem(\"name\").alias(f\"{column_name}_name\"))\n",
    "\n",
    "# Show the resulting DataFrame\n",
    "df2.printSchema()\n"
   ]
  },
  {
   "cell_type": "code",
   "execution_count": 24,
   "metadata": {},
   "outputs": [
    {
     "data": {
      "text/plain": [
       "[('Header', 'struct<Event:struct<Action:string,DateTime:timestamp>>'),\n",
       " ('Payload',\n",
       "  'struct<StoreOrder:struct<OpCo:struct<CountryCode:string,GLN:bigint>,StoreNo:int,WarehouseNo:int,WarehouseGln:bigint,StoreOrderNo:int,MessageCreationDatetime:timestamp,DeliveryStreamNo:int,DeliveryDateTime:timestamp,DelivererNo:int,SupplyMethod:string,StoreOrderLine:array<struct<SoiNo:bigint,Quantity:int,OrderLineId:int,PromotionInd:string,InitialPromotionInd:string,SupplierCompanyGln:bigint,SupplierNo:int,AddUnorderedInd:string,EmergencyOrderInd:string>>>>'),\n",
       " ('DeliveryDatePartitionKey', 'int'),\n",
       " ('__meta', 'struct<ModifiedTimestamp:timestamp>')]"
      ]
     },
     "execution_count": 24,
     "metadata": {},
     "output_type": "execute_result"
    }
   ],
   "source": [
    "df2.dtypes"
   ]
  },
  {
   "cell_type": "code",
   "execution_count": 18,
   "metadata": {},
   "outputs": [
    {
     "ename": "AnalysisException",
     "evalue": "Can only star expand struct data types. Attribute: `ArrayBuffer(info)`",
     "output_type": "error",
     "traceback": [
      "\u001b[1;31m---------------------------------------------------------------------------\u001b[0m",
      "\u001b[1;31mAnalysisException\u001b[0m                         Traceback (most recent call last)",
      "\u001b[1;32mc:\\Users\\pnl11147\\OneDrive - AholdDelhaize.com\\Documents\\pysparktutorial\\test.ipynb Cell 8\u001b[0m line \u001b[0;36m2\n\u001b[0;32m     <a href='vscode-notebook-cell:/c%3A/Users/pnl11147/OneDrive%20-%20AholdDelhaize.com/Documents/pysparktutorial/test.ipynb#X13sZmlsZQ%3D%3D?line=18'>19</a>\u001b[0m     \u001b[39mreturn\u001b[39;00m (col(column_name \u001b[39m+\u001b[39m \u001b[39m\"\u001b[39m\u001b[39m.\u001b[39m\u001b[39m\"\u001b[39m \u001b[39m+\u001b[39m k)\u001b[39m.\u001b[39malias(column_name \u001b[39m+\u001b[39m \u001b[39m\"\u001b[39m\u001b[39m_\u001b[39m\u001b[39m\"\u001b[39m \u001b[39m+\u001b[39m k)\n\u001b[0;32m     <a href='vscode-notebook-cell:/c%3A/Users/pnl11147/OneDrive%20-%20AholdDelhaize.com/Documents/pysparktutorial/test.ipynb#X13sZmlsZQ%3D%3D?line=19'>20</a>\u001b[0m             \u001b[39mfor\u001b[39;00m k \u001b[39min\u001b[39;00m df\u001b[39m.\u001b[39mselect(column_name \u001b[39m+\u001b[39m \u001b[39m\"\u001b[39m\u001b[39m.*\u001b[39m\u001b[39m\"\u001b[39m)\u001b[39m.\u001b[39mcolumns)\n\u001b[0;32m     <a href='vscode-notebook-cell:/c%3A/Users/pnl11147/OneDrive%20-%20AholdDelhaize.com/Documents/pysparktutorial/test.ipynb#X13sZmlsZQ%3D%3D?line=21'>22</a>\u001b[0m \u001b[39m# Unpack dictionaries in all columns\u001b[39;00m\n\u001b[1;32m---> <a href='vscode-notebook-cell:/c%3A/Users/pnl11147/OneDrive%20-%20AholdDelhaize.com/Documents/pysparktutorial/test.ipynb#X13sZmlsZQ%3D%3D?line=22'>23</a>\u001b[0m unpacked_df \u001b[39m=\u001b[39m df\u001b[39m.\u001b[39mselect([\u001b[39m\"\u001b[39m\u001b[39mname\u001b[39m\u001b[39m\"\u001b[39m] \u001b[39m+\u001b[39m \u001b[39mlist\u001b[39m(unpack_dictionary(\u001b[39m\"\u001b[39;49m\u001b[39minfo\u001b[39;49m\u001b[39m\"\u001b[39;49m)))\n\u001b[0;32m     <a href='vscode-notebook-cell:/c%3A/Users/pnl11147/OneDrive%20-%20AholdDelhaize.com/Documents/pysparktutorial/test.ipynb#X13sZmlsZQ%3D%3D?line=24'>25</a>\u001b[0m \u001b[39m# Show the result\u001b[39;00m\n\u001b[0;32m     <a href='vscode-notebook-cell:/c%3A/Users/pnl11147/OneDrive%20-%20AholdDelhaize.com/Documents/pysparktutorial/test.ipynb#X13sZmlsZQ%3D%3D?line=25'>26</a>\u001b[0m unpacked_df\u001b[39m.\u001b[39mshow()\n",
      "\u001b[1;32mc:\\Users\\pnl11147\\OneDrive - AholdDelhaize.com\\Documents\\pysparktutorial\\test.ipynb Cell 8\u001b[0m line \u001b[0;36m2\n\u001b[0;32m     <a href='vscode-notebook-cell:/c%3A/Users/pnl11147/OneDrive%20-%20AholdDelhaize.com/Documents/pysparktutorial/test.ipynb#X13sZmlsZQ%3D%3D?line=17'>18</a>\u001b[0m \u001b[39mdef\u001b[39;00m \u001b[39munpack_dictionary\u001b[39m(column_name):\n\u001b[0;32m     <a href='vscode-notebook-cell:/c%3A/Users/pnl11147/OneDrive%20-%20AholdDelhaize.com/Documents/pysparktutorial/test.ipynb#X13sZmlsZQ%3D%3D?line=18'>19</a>\u001b[0m     \u001b[39mreturn\u001b[39;00m (col(column_name \u001b[39m+\u001b[39m \u001b[39m\"\u001b[39m\u001b[39m.\u001b[39m\u001b[39m\"\u001b[39m \u001b[39m+\u001b[39m k)\u001b[39m.\u001b[39malias(column_name \u001b[39m+\u001b[39m \u001b[39m\"\u001b[39m\u001b[39m_\u001b[39m\u001b[39m\"\u001b[39m \u001b[39m+\u001b[39m k)\n\u001b[1;32m---> <a href='vscode-notebook-cell:/c%3A/Users/pnl11147/OneDrive%20-%20AholdDelhaize.com/Documents/pysparktutorial/test.ipynb#X13sZmlsZQ%3D%3D?line=19'>20</a>\u001b[0m             \u001b[39mfor\u001b[39;00m k \u001b[39min\u001b[39;00m df\u001b[39m.\u001b[39;49mselect(column_name \u001b[39m+\u001b[39;49m \u001b[39m\"\u001b[39;49m\u001b[39m.*\u001b[39;49m\u001b[39m\"\u001b[39;49m)\u001b[39m.\u001b[39mcolumns)\n",
      "File \u001b[1;32mc:\\Users\\pnl11147\\venvs\\databricks\\lib\\site-packages\\pyspark\\instrumentation_utils.py:48\u001b[0m, in \u001b[0;36m_wrap_function.<locals>.wrapper\u001b[1;34m(*args, **kwargs)\u001b[0m\n\u001b[0;32m     46\u001b[0m start \u001b[39m=\u001b[39m time\u001b[39m.\u001b[39mperf_counter()\n\u001b[0;32m     47\u001b[0m \u001b[39mtry\u001b[39;00m:\n\u001b[1;32m---> 48\u001b[0m     res \u001b[39m=\u001b[39m func(\u001b[39m*\u001b[39margs, \u001b[39m*\u001b[39m\u001b[39m*\u001b[39mkwargs)\n\u001b[0;32m     49\u001b[0m     logger\u001b[39m.\u001b[39mlog_success(\n\u001b[0;32m     50\u001b[0m         module_name, class_name, function_name, time\u001b[39m.\u001b[39mperf_counter() \u001b[39m-\u001b[39m start, signature\n\u001b[0;32m     51\u001b[0m     )\n\u001b[0;32m     52\u001b[0m     \u001b[39mreturn\u001b[39;00m res\n",
      "File \u001b[1;32mc:\\Users\\pnl11147\\venvs\\databricks\\lib\\site-packages\\pyspark\\sql\\dataframe.py:2109\u001b[0m, in \u001b[0;36mDataFrame.select\u001b[1;34m(self, *cols)\u001b[0m\n\u001b[0;32m   2088\u001b[0m \u001b[39mdef\u001b[39;00m \u001b[39mselect\u001b[39m(\u001b[39mself\u001b[39m, \u001b[39m*\u001b[39mcols: \u001b[39m\"\u001b[39m\u001b[39mColumnOrName\u001b[39m\u001b[39m\"\u001b[39m) \u001b[39m-\u001b[39m\u001b[39m>\u001b[39m \u001b[39m\"\u001b[39m\u001b[39mDataFrame\u001b[39m\u001b[39m\"\u001b[39m:  \u001b[39m# type: ignore[misc]\u001b[39;00m\n\u001b[0;32m   2089\u001b[0m \u001b[39m    \u001b[39m\u001b[39m\"\"\"Projects a set of expressions and returns a new :class:`DataFrame`.\u001b[39;00m\n\u001b[0;32m   2090\u001b[0m \n\u001b[0;32m   2091\u001b[0m \u001b[39m    .. versionadded:: 1.3.0\u001b[39;00m\n\u001b[1;32m   (...)\u001b[0m\n\u001b[0;32m   2107\u001b[0m \u001b[39m    [Row(name='Alice', age=12), Row(name='Bob', age=15)]\u001b[39;00m\n\u001b[0;32m   2108\u001b[0m \u001b[39m    \"\"\"\u001b[39;00m\n\u001b[1;32m-> 2109\u001b[0m     jdf \u001b[39m=\u001b[39m \u001b[39mself\u001b[39;49m\u001b[39m.\u001b[39;49m_jdf\u001b[39m.\u001b[39;49mselect(\u001b[39mself\u001b[39;49m\u001b[39m.\u001b[39;49m_jcols(\u001b[39m*\u001b[39;49mcols))\n\u001b[0;32m   2110\u001b[0m     \u001b[39mreturn\u001b[39;00m DataFrame(jdf, \u001b[39mself\u001b[39m\u001b[39m.\u001b[39msparkSession)\n",
      "File \u001b[1;32mc:\\Users\\pnl11147\\venvs\\databricks\\lib\\site-packages\\py4j\\java_gateway.py:1321\u001b[0m, in \u001b[0;36mJavaMember.__call__\u001b[1;34m(self, *args)\u001b[0m\n\u001b[0;32m   1315\u001b[0m command \u001b[39m=\u001b[39m proto\u001b[39m.\u001b[39mCALL_COMMAND_NAME \u001b[39m+\u001b[39m\\\n\u001b[0;32m   1316\u001b[0m     \u001b[39mself\u001b[39m\u001b[39m.\u001b[39mcommand_header \u001b[39m+\u001b[39m\\\n\u001b[0;32m   1317\u001b[0m     args_command \u001b[39m+\u001b[39m\\\n\u001b[0;32m   1318\u001b[0m     proto\u001b[39m.\u001b[39mEND_COMMAND_PART\n\u001b[0;32m   1320\u001b[0m answer \u001b[39m=\u001b[39m \u001b[39mself\u001b[39m\u001b[39m.\u001b[39mgateway_client\u001b[39m.\u001b[39msend_command(command)\n\u001b[1;32m-> 1321\u001b[0m return_value \u001b[39m=\u001b[39m get_return_value(\n\u001b[0;32m   1322\u001b[0m     answer, \u001b[39mself\u001b[39;49m\u001b[39m.\u001b[39;49mgateway_client, \u001b[39mself\u001b[39;49m\u001b[39m.\u001b[39;49mtarget_id, \u001b[39mself\u001b[39;49m\u001b[39m.\u001b[39;49mname)\n\u001b[0;32m   1324\u001b[0m \u001b[39mfor\u001b[39;00m temp_arg \u001b[39min\u001b[39;00m temp_args:\n\u001b[0;32m   1325\u001b[0m     temp_arg\u001b[39m.\u001b[39m_detach()\n",
      "File \u001b[1;32mc:\\Users\\pnl11147\\venvs\\databricks\\lib\\site-packages\\pyspark\\sql\\utils.py:202\u001b[0m, in \u001b[0;36mcapture_sql_exception.<locals>.deco\u001b[1;34m(*a, **kw)\u001b[0m\n\u001b[0;32m    198\u001b[0m converted \u001b[39m=\u001b[39m convert_exception(e\u001b[39m.\u001b[39mjava_exception)\n\u001b[0;32m    199\u001b[0m \u001b[39mif\u001b[39;00m \u001b[39mnot\u001b[39;00m \u001b[39misinstance\u001b[39m(converted, UnknownException):\n\u001b[0;32m    200\u001b[0m     \u001b[39m# Hide where the exception came from that shows a non-Pythonic\u001b[39;00m\n\u001b[0;32m    201\u001b[0m     \u001b[39m# JVM exception message.\u001b[39;00m\n\u001b[1;32m--> 202\u001b[0m     \u001b[39mraise\u001b[39;00m converted \u001b[39mfrom\u001b[39;00m \u001b[39mNone\u001b[39;00m\n\u001b[0;32m    203\u001b[0m \u001b[39melse\u001b[39;00m:\n\u001b[0;32m    204\u001b[0m     \u001b[39mraise\u001b[39;00m\n",
      "\u001b[1;31mAnalysisException\u001b[0m: Can only star expand struct data types. Attribute: `ArrayBuffer(info)`"
     ]
    }
   ],
   "source": [
    "from pyspark.sql import SparkSession\n",
    "from pyspark.sql.functions import col\n",
    "\n",
    "# Create a Spark session\n",
    "spark = SparkSession.builder.appName(\"UnpackDictionaries\").getOrCreate()\n",
    "\n",
    "# Sample data with dictionaries inside columns\n",
    "data = [(\"Alice\", {\"age\": 30, \"city\": \"New York\"}),\n",
    "        (\"Bob\", {\"age\": 28, \"city\": \"San Francisco\"}),\n",
    "        (\"Eve\", {\"age\": 22, \"city\": \"Los Angeles\"})]\n",
    "\n",
    "columns = [\"name\", \"info\"]\n",
    "\n",
    "# Create a DataFrame\n",
    "df = spark.createDataFrame(data, columns)\n",
    "\n",
    "# Define a function to unpack dictionaries\n",
    "def unpack_dictionary(column_name):\n",
    "    return (col(column_name + \".\" + k).alias(column_name + \"_\" + k)\n",
    "            for k in df.select(column_name + \".*\").columns)\n",
    "\n",
    "# Unpack dictionaries in all columns\n",
    "unpacked_df = df.select([\"name\"] + list(unpack_dictionary(\"info\")))\n",
    "\n",
    "# Show the result\n",
    "unpacked_df.show()\n"
   ]
  },
  {
   "cell_type": "code",
   "execution_count": 32,
   "metadata": {},
   "outputs": [],
   "source": [
    "# print hello world\n",
    " "
   ]
  },
  {
   "cell_type": "code",
   "execution_count": null,
   "metadata": {},
   "outputs": [],
   "source": []
  }
 ],
 "metadata": {
  "kernelspec": {
   "display_name": "Python 3",
   "language": "python",
   "name": "python3"
  },
  "language_info": {
   "codemirror_mode": {
    "name": "ipython",
    "version": 3
   },
   "file_extension": ".py",
   "mimetype": "text/x-python",
   "name": "python",
   "nbconvert_exporter": "python",
   "pygments_lexer": "ipython3",
   "version": "3.9.13"
  },
  "orig_nbformat": 4
 },
 "nbformat": 4,
 "nbformat_minor": 2
}
