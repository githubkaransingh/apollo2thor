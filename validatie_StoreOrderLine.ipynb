{
 "cells": [
  {
   "cell_type": "code",
   "execution_count": 1,
   "metadata": {},
   "outputs": [],
   "source": [
    "from pyspark.sql.session import SparkSession\n",
    "import pyspark.sql.functions as F\n",
    "from pyspark.sql.functions import *\n",
    "from pyspark.sql import SparkSession\n",
    "from pyspark.sql.functions import col\n",
    "from pyspark.sql.functions import year, month\n",
    "from pyspark.sql.functions import to_timestamp,date_format\n",
    "\n",
    "spark = SparkSession.builder.getOrCreate()"
   ]
  },
  {
   "cell_type": "code",
   "execution_count": 2,
   "metadata": {},
   "outputs": [
    {
     "name": "stdout",
     "output_type": "stream",
     "text": [
      "root\n",
      " |-- Action: string (nullable = true)\n",
      " |-- DateTime: timestamp (nullable = true)\n",
      " |-- CountryCode: string (nullable = true)\n",
      " |-- GLN: long (nullable = true)\n",
      " |-- StoreNo: integer (nullable = true)\n",
      " |-- WarehouseNo: integer (nullable = true)\n",
      " |-- StoreOrderNo: integer (nullable = true)\n",
      " |-- MessageCreationDatetime: timestamp (nullable = true)\n",
      " |-- DeliveryStreamNo: integer (nullable = true)\n",
      " |-- DeliveryDateTime: timestamp (nullable = true)\n",
      " |-- DelivererNo: integer (nullable = true)\n",
      " |-- SupplyMethod: string (nullable = true)\n",
      " |-- Soino: long (nullable = true)\n",
      " |-- Quantity: integer (nullable = true)\n",
      " |-- OrderLineId: integer (nullable = true)\n",
      " |-- PromotionInd: string (nullable = true)\n",
      " |-- InitialPromotionInd: string (nullable = true)\n",
      " |-- SupplierCompanyGln: long (nullable = true)\n",
      " |-- SupplierNo: integer (nullable = true)\n",
      " |-- AddUnorderedInd: string (nullable = true)\n",
      " |-- EmergencyOrderInd: string (nullable = true)\n",
      " |-- DeliveryDatePartitionKey: integer (nullable = true)\n",
      " |-- ModifiedTimestamp: timestamp (nullable = true)\n",
      " |-- date: timestamp (nullable = true)\n",
      " |-- year: integer (nullable = true)\n",
      " |-- month: integer (nullable = true)\n",
      " |-- day: string (nullable = true)\n",
      "\n"
     ]
    }
   ],
   "source": [
    "df1 = spark.read.load('/mnt/prepared/SupplyChain/StoreOrder/StoreOrderLine')\n",
    "\n",
    "df2 = spark.read.load('dbfs:/mnt/thorcf2/clean/supp/dedi/storeorder')\n",
    "\n",
    "df2 = (\n",
    "    df2.select(\"Header.*\", \"Payload.*\", \"DeliveryDatePartitionKey\", \"__meta.*\")\n",
    "    .select(\"Event.*\", \"StoreOrder.*\", \"DeliveryDatePartitionKey\", \"ModifiedTimestamp\")\n",
    "    .select(\"Action\", \"DateTime\", \"Opco.*\", \"StoreNo\", \"WarehouseNo\",\"StoreOrderNo\",\"MessageCreationDatetime\",\"DeliveryStreamNo\",\"DeliveryDateTime\",\n",
    "            \"DelivererNo\",\"SupplyMethod\",\"StoreOrderLine\",\"DeliveryDatePartitionKey\",\"ModifiedTimestamp\")\n",
    "    .select(\"Action\",\"DateTime\",\"CountryCode\",\"GLN\",\"StoreNo\",\"WarehouseNo\",\"StoreOrderNo\",\"MessageCreationDatetime\",\n",
    "            \"DeliveryStreamNo\",\"DeliveryDateTime\",\"DelivererNo\",\"SupplyMethod\",*[F.col('StoreOrderLine')[i].alias(f'StoreOrderLine{i}') for i in range(1)],\n",
    "            \"DeliveryDatePartitionKey\",\"ModifiedTimestamp\")\n",
    "    .select(\"Action\",\"DateTime\",\"CountryCode\",\"GLN\",\"StoreNo\",\"WarehouseNo\",\"StoreOrderNo\",\"MessageCreationDatetime\",\"DeliveryStreamNo\",\"DeliveryDateTime\",\"DelivererNo\",\"SupplyMethod\",\"StoreOrderLine0.*\",\"DeliveryDatePartitionKey\",\"ModifiedTimestamp\")\n",
    ")\n",
    "df2 = df2.withColumnRenamed('SoiNo','Soino')\n",
    "df2 = df2.withColumn(\"date\", to_date(col(\"DeliveryDateTime\")))\n",
    "df2 = df2.withColumn('year', year(df2.date))\n",
    "df2 = df2.withColumn('month', month(df2.date))\n",
    "df2 = df2.withColumn(\"date\",to_timestamp(col(\"date\"))).withColumn(\"day\", date_format(col(\"date\"), \"d\"))\n",
    "\n",
    "df2 = df2.withColumn(\"date\", to_date(col(\"DeliveryDateTime\")))\n",
    "df2 = df2.withColumn('year', year(df2.date))\n",
    "df2 = df2.withColumn('month', month(df2.date))\n",
    "df2 = df2.withColumn(\"date\",to_timestamp(col(\"date\"))).withColumn(\"day\", date_format(col(\"date\"), \"d\"))\n",
    "\n",
    "df2.printSchema()"
   ]
  },
  {
   "cell_type": "markdown",
   "metadata": {},
   "source": [
    "# Data validatie"
   ]
  },
  {
   "cell_type": "code",
   "execution_count": 3,
   "metadata": {},
   "outputs": [],
   "source": [
    "df1_copy = df1\n",
    "df2_copy = df2\n",
    "df1_copy = df1_copy.filter(df1_copy.year > 2021)\n",
    "\n",
    "df1_copy = df1_copy.drop(\n",
    "    'StoreNo',\n",
    "    'StoreOrderNo',\n",
    ")\n",
    "\n",
    "# df1_copy.printSchema()\n",
    "# df2_copy.printSchema()"
   ]
  },
  {
   "cell_type": "code",
   "execution_count": 4,
   "metadata": {},
   "outputs": [
    {
     "name": "stdout",
     "output_type": "stream",
     "text": [
      "root\n",
      " |-- InsertDate: timestamp (nullable = true)\n",
      " |-- WarehouseNo: integer (nullable = true)\n",
      " |-- DeliveryStreamNo: integer (nullable = true)\n",
      " |-- DeliveryDateTime: timestamp (nullable = true)\n",
      " |-- Soino: integer (nullable = true)\n",
      " |-- Quantity: integer (nullable = true)\n",
      " |-- OrderLineId: integer (nullable = true)\n",
      " |-- PromotionInd: string (nullable = true)\n",
      " |-- InitialPromotionInd: string (nullable = true)\n",
      " |-- SupplierCompanyGln: string (nullable = true)\n",
      " |-- SupplierNo: integer (nullable = true)\n",
      " |-- AddUnorderedInd: string (nullable = true)\n",
      " |-- EmergencyOrderInd: string (nullable = true)\n",
      " |-- date: date (nullable = true)\n",
      " |-- year: string (nullable = true)\n",
      " |-- month: string (nullable = true)\n",
      " |-- day: string (nullable = true)\n",
      "\n",
      "root\n",
      " |-- InsertDate: timestamp (nullable = true)\n",
      " |-- WarehouseNo: integer (nullable = true)\n",
      " |-- DeliveryStreamNo: integer (nullable = true)\n",
      " |-- DeliveryDateTime: timestamp (nullable = true)\n",
      " |-- Soino: long (nullable = true)\n",
      " |-- Quantity: integer (nullable = true)\n",
      " |-- OrderLineId: integer (nullable = true)\n",
      " |-- PromotionInd: string (nullable = true)\n",
      " |-- InitialPromotionInd: string (nullable = true)\n",
      " |-- SupplierCompanyGln: long (nullable = true)\n",
      " |-- SupplierNo: integer (nullable = true)\n",
      " |-- AddUnorderedInd: string (nullable = true)\n",
      " |-- EmergencyOrderInd: string (nullable = true)\n",
      " |-- date: timestamp (nullable = true)\n",
      " |-- year: integer (nullable = true)\n",
      " |-- month: integer (nullable = true)\n",
      " |-- day: string (nullable = true)\n",
      "\n"
     ]
    }
   ],
   "source": [
    "df2_copy = df2_copy.withColumnRenamed('DateTime','InsertDate')\n",
    "df2_copy = df2_copy.drop(\n",
    "    'Action',\n",
    "    'CountryCode',\n",
    "    'GLN','StoreNo',\n",
    "    'MessageCreationDatetime',\n",
    "    'StoreOrderNo',\n",
    "    'ModifiedTimestamp',\n",
    "    'DeliveryDatePartitionKey',\n",
    "    'DelivererNo',\n",
    "    'SupplyMethod'   \n",
    ")\n",
    "\n",
    "df1_copy.printSchema()\n",
    "df2_copy.printSchema()"
   ]
  },
  {
   "cell_type": "code",
   "execution_count": 5,
   "metadata": {},
   "outputs": [],
   "source": [
    "# df1_copy.select('StoreOrderNo').show()\n",
    "# df2_copy.select('DelivererNo').show()\n",
    "\n",
    "# diff = df1_copy.select('StoreOrderNo').subtract(df2_copy.select('DelivererNo'))\n",
    "# diff2 = df2_copy.select('DelivererNo').subtract(df1_copy.select('StoreOrderNo'))\n",
    "# diff2.count()\n",
    "\n",
    "# print(diff.count())\n",
    "# df1_copy.count()"
   ]
  },
  {
   "cell_type": "code",
   "execution_count": 6,
   "metadata": {},
   "outputs": [],
   "source": [
    "# df_difference = df1_copy.subtract(df2_copy)\n",
    "# df_difference.show()\n",
    "# df_difference.count()\n",
    "# df2 is substracted van df1 om de resultaten die in df1 zitten, maar niet in df2 zitten te tonen. 1372594136 records komen dus niet overeen. 6.677.544 records "
   ]
  },
  {
   "cell_type": "code",
   "execution_count": 7,
   "metadata": {},
   "outputs": [],
   "source": [
    "# df_difference2 = df2_copy.subtract(df1_copy)\n",
    "# df_difference2.show()\n",
    "# df_difference2.count()"
   ]
  },
  {
   "cell_type": "code",
   "execution_count": 8,
   "metadata": {},
   "outputs": [],
   "source": [
    "# print(f'df1_copy: count: {df1_copy.count()}')\n",
    "# print(f'df2_copy: count: {df2_copy.count()}')"
   ]
  },
  {
   "cell_type": "markdown",
   "metadata": {},
   "source": [
    "5.723.649 van de 6.260.161 van de rijen in df2 komen niet overeen met df1"
   ]
  },
  {
   "cell_type": "code",
   "execution_count": 6,
   "metadata": {},
   "outputs": [
    {
     "name": "stdout",
     "output_type": "stream",
     "text": [
      "+-------------------+-----------+----------------+-------------------+------+--------+-----------+------------+-------------------+------------------+----------+---------------+-----------------+----------+----+-----+---+\n",
      "|         InsertDate|WarehouseNo|DeliveryStreamNo|   DeliveryDateTime| Soino|Quantity|OrderLineId|PromotionInd|InitialPromotionInd|SupplierCompanyGln|SupplierNo|AddUnorderedInd|EmergencyOrderInd|      date|year|month|day|\n",
      "+-------------------+-----------+----------------+-------------------+------+--------+-----------+------------+-------------------+------------------+----------+---------------+-----------------+----------+----+-----+---+\n",
      "|2022-03-10 18:37:40|        900|              96|2022-03-11 10:30:00|151700|       2|          1|           N|                  N|     8712423008113|      5462|              N|                N|2022-03-11|2022|   03| 11|\n",
      "|2022-04-09 15:13:52|         99|               4|2022-04-11 12:00:00|  2565|       1|          1|           N|                  N|     8711611000007|    173872|              N|                N|2022-04-11|2022|   04| 11|\n",
      "|2022-04-15 00:29:01|        900|              96|2022-04-15 18:30:00| 63261|       2|          1|           N|                  N|     8719189108002|    996587|              N|                N|2022-04-15|2022|   04| 15|\n",
      "|2023-01-15 12:44:17|         78|               6|2023-01-16 05:00:00|359889|       1|          1|           Y|                  N|     8714231025016|    243030|              N|                N|2023-01-16|2023|   01| 16|\n",
      "|2023-01-29 21:44:22|         40|              11|2023-01-30 16:30:00| 13560|       1|          1|           N|                  N|     8712092000005|    988907|              N|                N|2023-01-30|2023|   01| 30|\n",
      "|2022-07-09 20:24:21|        900|              96|2022-07-10 18:00:00|135532|       1|          1|           N|                  N|     8718927300005|    991109|              N|                N|2022-07-10|2022|   07| 10|\n",
      "|2022-09-12 22:53:44|        900|              96|2022-09-13 15:30:00| 18439|       1|          1|           N|                  N|     5413011000009|    850404|              N|                N|2022-09-13|2022|   09| 13|\n",
      "|2022-09-21 22:53:42|        900|              96|2022-09-22 15:30:00| 18439|       1|          1|           N|                  N|     5413011000009|    850404|              N|                N|2022-09-22|2022|   09| 22|\n",
      "|2023-02-25 17:36:38|         40|              11|2023-02-26 13:00:00|140733|       1|          1|           N|                  N|     8714179000007|    999631|              N|                N|2023-02-26|2023|   02| 26|\n",
      "|2023-06-17 16:46:14|        900|              96|2023-06-18 13:00:00| 63269|       1|          1|           N|                  N|     8719189108002|    996587|              N|                N|2023-06-18|2023|   06| 18|\n",
      "|2022-02-26 17:37:27|        900|              96|2022-02-27 13:00:00|110560|       4|          1|           N|                  N|     8712423008113|      5462|              N|                N|2022-02-27|2022|   02| 27|\n",
      "|2023-03-19 22:48:23|        900|              96|2023-03-20 22:30:00|226335|       2|          1|           Y|                  N|     8713047000002|     28647|              N|                N|2023-03-20|2023|   03| 20|\n",
      "|2022-12-24 23:29:18|         78|               6|2022-12-26 19:00:00|425559|       1|          1|           N|                  N|     8714231025016|    243030|              N|                N|2022-12-26|2022|   12| 26|\n",
      "|2022-12-24 23:29:18|         78|               6|2022-12-26 19:00:00|425559|       1|          1|           N|                  N|     8714231025016|    243030|              N|                N|2022-12-26|2022|   12| 26|\n",
      "|2022-12-24 23:29:18|         78|               6|2022-12-26 19:00:00|425559|       1|          1|           N|                  N|     8714231025016|    243030|              N|                N|2022-12-26|2022|   12| 26|\n",
      "|2022-12-24 23:29:18|         78|               6|2022-12-26 19:00:00|425559|       1|          1|           N|                  N|     8714231025016|    243030|              N|                N|2022-12-26|2022|   12| 26|\n",
      "|2022-12-24 23:29:18|         78|               6|2022-12-26 19:00:00|425559|       1|          1|           N|                  N|     8714231025016|    243030|              N|                N|2022-12-26|2022|   12| 26|\n",
      "|2022-12-24 23:29:18|         78|               6|2022-12-26 19:00:00|425559|       1|          1|           N|                  N|     8714231025016|    243030|              N|                N|2022-12-26|2022|   12| 26|\n",
      "|2022-12-24 23:29:18|         78|               6|2022-12-26 19:00:00|425559|       1|          1|           N|                  N|     8714231025016|    243030|              N|                N|2022-12-26|2022|   12| 26|\n",
      "|2023-03-20 23:17:59|         40|              11|2023-03-21 17:30:00| 14033|       1|          1|           N|                  N|     8718166000001|    159624|              N|                N|2023-03-21|2023|   03| 21|\n",
      "+-------------------+-----------+----------------+-------------------+------+--------+-----------+------------+-------------------+------------------+----------+---------------+-----------------+----------+----+-----+---+\n",
      "only showing top 20 rows\n",
      "\n"
     ]
    }
   ],
   "source": [
    "result = df1_copy.join(df2_copy, on=df1_copy.columns, how=\"inner\")\n",
    "result.show()"
   ]
  },
  {
   "cell_type": "code",
   "execution_count": 9,
   "metadata": {},
   "outputs": [
    {
     "name": "stdout",
     "output_type": "stream",
     "text": [
      "501\n",
      "501\n"
     ]
    }
   ],
   "source": [
    "print(result.count())"
   ]
  }
 ],
 "metadata": {
  "kernelspec": {
   "display_name": "databricks",
   "language": "python",
   "name": "python3"
  },
  "language_info": {
   "codemirror_mode": {
    "name": "ipython",
    "version": 3
   },
   "file_extension": ".py",
   "mimetype": "text/x-python",
   "name": "python",
   "nbconvert_exporter": "python",
   "pygments_lexer": "ipython3",
   "version": "3.9.13"
  },
  "orig_nbformat": 4
 },
 "nbformat": 4,
 "nbformat_minor": 2
}
